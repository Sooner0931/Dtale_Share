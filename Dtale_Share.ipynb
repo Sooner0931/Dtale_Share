{
 "cells": [
  {
   "cell_type": "markdown",
   "id": "b3c6ddd5-b0b7-442a-9fd6-bca56c92ec2f",
   "metadata": {},
   "source": [
    "# 导入所需模块"
   ]
  },
  {
   "cell_type": "code",
   "execution_count": null,
   "id": "af4b0da9-2e46-4d67-b492-de806288eb32",
   "metadata": {},
   "outputs": [],
   "source": [
    "import numpy as np\n",
    "import pandas as pd"
   ]
  },
  {
   "cell_type": "code",
   "execution_count": null,
   "id": "fc3daa7b-97e5-47b8-87f7-356ebaa00658",
   "metadata": {},
   "outputs": [],
   "source": [
    "import dtale"
   ]
  },
  {
   "cell_type": "code",
   "execution_count": null,
   "id": "6d522f5e-6a71-4311-a216-efafdc3f3e2e",
   "metadata": {},
   "outputs": [],
   "source": [
    "pd.options.display.max_columns = None\n",
    "# pd.options.display.max_rows = None"
   ]
  },
  {
   "cell_type": "code",
   "execution_count": null,
   "id": "1984d255-567b-4c8f-8a20-f7d0f9c2b8d1",
   "metadata": {},
   "outputs": [],
   "source": []
  },
  {
   "cell_type": "code",
   "execution_count": null,
   "id": "0fb75a5a-91e7-4290-acbf-a897452d2297",
   "metadata": {},
   "outputs": [],
   "source": []
  },
  {
   "cell_type": "markdown",
   "id": "cbb1afc2-956c-48c7-b156-8ac9137c2665",
   "metadata": {},
   "source": [
    "# 载入数据"
   ]
  },
  {
   "cell_type": "code",
   "execution_count": null,
   "id": "c8d2581e-82f1-4089-b1a7-66108dda8508",
   "metadata": {},
   "outputs": [],
   "source": [
    "df_1 = pd.read_csv('0_虚拟数据_0.csv', encoding = 'gbk')"
   ]
  },
  {
   "cell_type": "code",
   "execution_count": null,
   "id": "9d6f75e1-a154-42db-9649-56d0c3bb5768",
   "metadata": {},
   "outputs": [],
   "source": []
  },
  {
   "cell_type": "code",
   "execution_count": null,
   "id": "fa72ea61-f188-4060-9ba3-8dc0cb643ace",
   "metadata": {},
   "outputs": [],
   "source": []
  },
  {
   "cell_type": "markdown",
   "id": "85a489e0-4907-4263-969b-440004e8231a",
   "metadata": {},
   "source": [
    "# 查看数据"
   ]
  },
  {
   "cell_type": "code",
   "execution_count": null,
   "id": "5a234009-3acd-4967-9cbc-fc3214f7a063",
   "metadata": {},
   "outputs": [],
   "source": [
    "df_1.shape"
   ]
  },
  {
   "cell_type": "code",
   "execution_count": null,
   "id": "7797c178-82ef-484d-8d7c-99b8b229812d",
   "metadata": {},
   "outputs": [],
   "source": [
    "df_1.sample(3)"
   ]
  },
  {
   "cell_type": "code",
   "execution_count": null,
   "id": "de5b7f34-86b4-4e34-b9d6-3b944a30e2c6",
   "metadata": {},
   "outputs": [],
   "source": []
  },
  {
   "cell_type": "code",
   "execution_count": null,
   "id": "c657f715-60a2-4653-a9aa-967f44df2c73",
   "metadata": {},
   "outputs": [],
   "source": []
  },
  {
   "cell_type": "markdown",
   "id": "d778863c-3e2e-46ba-bccc-fd35fa55acaa",
   "metadata": {},
   "source": [
    "# 使用 D-Tale"
   ]
  },
  {
   "cell_type": "code",
   "execution_count": null,
   "id": "e8c5d75b-e302-4df5-b401-d25fcd7db246",
   "metadata": {},
   "outputs": [],
   "source": [
    "dtale.show(df_1)"
   ]
  }
 ],
 "metadata": {
  "kernelspec": {
   "display_name": "Python 3 (ipykernel)",
   "language": "python",
   "name": "python3"
  },
  "language_info": {
   "codemirror_mode": {
    "name": "ipython",
    "version": 3
   },
   "file_extension": ".py",
   "mimetype": "text/x-python",
   "name": "python",
   "nbconvert_exporter": "python",
   "pygments_lexer": "ipython3",
   "version": "3.9.7"
  }
 },
 "nbformat": 4,
 "nbformat_minor": 5
}
